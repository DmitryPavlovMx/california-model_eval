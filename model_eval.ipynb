{
 "cells": [
  {
   "cell_type": "code",
   "execution_count": 13,
   "id": "870a1090-f4ae-45a0-aa93-0960f5c6478d",
   "metadata": {
    "editable": true,
    "slideshow": {
     "slide_type": ""
    },
    "tags": []
   },
   "outputs": [
    {
     "name": "stdout",
     "output_type": "stream",
     "text": [
      "The autoreload extension is already loaded. To reload it, use:\n",
      "  %reload_ext autoreload\n"
     ]
    }
   ],
   "source": [
    "%load_ext autoreload\n",
    "%autoreload 2"
   ]
  },
  {
   "cell_type": "code",
   "execution_count": 14,
   "id": "453c78e8-6822-4123-bf9d-ed1ae9dd7bea",
   "metadata": {
    "editable": true,
    "slideshow": {
     "slide_type": ""
    },
    "tags": [
     "parameters"
    ]
   },
   "outputs": [],
   "source": [
    "# specify substep parameters for interactive run\n",
    "# this cell will be replaced during job run with the parameters from json within params subfolder\n",
    "substep_params={\n",
    "    \"r2_threshold\": 1,\n",
    "    \"mae_threshold\":1.5 ,\n",
    "    \"mape_threshold\":0.8}"
   ]
  },
  {
   "cell_type": "code",
   "execution_count": 15,
   "id": "50592002-8b5f-47bd-82a7-3489fd1f5b1c",
   "metadata": {
    "editable": false,
    "slideshow": {
     "slide_type": ""
    },
    "tags": []
   },
   "outputs": [
    {
     "data": {
      "text/markdown": [
       "**Pipeline params:**\n"
      ],
      "text/plain": [
       "<IPython.core.display.Markdown object>"
      ]
     },
     "metadata": {},
     "output_type": "display_data"
    },
    {
     "name": "stdout",
     "output_type": "stream",
     "text": [
      "{'X': 'something',\n",
      " 'env_name': 'user',\n",
      " 'pipeline_name': 'pipeline',\n",
      " 'zone_name': 'zone'}\n",
      "\n",
      "\n"
     ]
    },
    {
     "data": {
      "text/markdown": [
       "**Step params:**\n"
      ],
      "text/plain": [
       "<IPython.core.display.Markdown object>"
      ]
     },
     "metadata": {},
     "output_type": "display_data"
    },
    {
     "name": "stdout",
     "output_type": "stream",
     "text": [
      "{'Y': 'something_else'}\n",
      "\n",
      "\n"
     ]
    }
   ],
   "source": [
    "# load pipeline and step parameters - do not edit\n",
    "from sinara.substep import get_pipeline_params, get_step_params\n",
    "pipeline_params = get_pipeline_params(pprint=True)\n",
    "step_params = get_step_params(pprint=True)"
   ]
  },
  {
   "cell_type": "code",
   "execution_count": 16,
   "id": "f3818420-6085-43ea-b97e-578742794e1e",
   "metadata": {
    "editable": true,
    "slideshow": {
     "slide_type": ""
    },
    "tags": [
     "interface"
    ]
   },
   "outputs": [
    {
     "data": {
      "text/markdown": [
       "**STEP NAME:**\n"
      ],
      "text/plain": [
       "<IPython.core.display.Markdown object>"
      ]
     },
     "metadata": {},
     "output_type": "display_data"
    },
    {
     "name": "stdout",
     "output_type": "stream",
     "text": [
      "'model_eval'\n",
      "\n",
      "\n"
     ]
    },
    {
     "data": {
      "text/markdown": [
       "**INPUTS:**\n"
      ],
      "text/plain": [
       "<IPython.core.display.Markdown object>"
      ]
     },
     "metadata": {},
     "output_type": "display_data"
    },
    {
     "name": "stdout",
     "output_type": "stream",
     "text": [
      "[{'user.pipeline.zone.model_train.california_bento': '/data/home/jovyan/pipeline/zone/model_train/run-25-01-15-100600/california_bento'}]\n",
      "\n",
      "\n"
     ]
    }
   ],
   "source": [
    "#3 define substep interface\n",
    "from sinara.substep import NotebookSubstep, ENV_NAME, PIPELINE_NAME, ZONE_NAME, STEP_NAME, RUN_ID, ENTITY_NAME, ENTITY_PATH, SUBSTEP_NAME\n",
    "\n",
    "substep = NotebookSubstep(pipeline_params, step_params, substep_params)\n",
    "\n",
    "substep.interface(\n",
    "   \n",
    "    inputs =\n",
    "    [\n",
    "        { STEP_NAME: \"model_train\", ENTITY_NAME: \"california_bento\" }, #, ZONE_NAME: \"zone\" },\n",
    "        \n",
    "    ],\n",
    "    outputs = \n",
    "    [\n",
    "       \n",
    "    ]\n",
    ")\n",
    "\n",
    "substep.print_interface_info()\n",
    "\n",
    "substep.exit_in_visualize_mode()"
   ]
  },
  {
   "cell_type": "code",
   "execution_count": 17,
   "id": "55e950c3-3151-4daf-9b98-83d3aebe216d",
   "metadata": {
    "tags": []
   },
   "outputs": [
    {
     "name": "stdout",
     "output_type": "stream",
     "text": [
      "Session is run\n"
     ]
    },
    {
     "data": {
      "text/html": [
       "<a href='/proxy/4040/jobs/' target='blank'>Open Spark UI</a>"
      ],
      "text/plain": [
       "<IPython.core.display.HTML object>"
      ]
     },
     "metadata": {},
     "output_type": "display_data"
    }
   ],
   "source": [
    "#4 run spark\n",
    "from sinara.spark import SinaraSpark\n",
    "\n",
    "spark = SinaraSpark.run_session(0)\n",
    "SinaraSpark.ui_url()"
   ]
  },
  {
   "cell_type": "code",
   "execution_count": 18,
   "id": "70b2d9b3-051c-424c-beec-9da8f177b4ed",
   "metadata": {
    "tags": []
   },
   "outputs": [],
   "source": [
    "\n",
    "substep.add_metric('experiment_name', 'evaluation_metrics_example')"
   ]
  },
  {
   "cell_type": "code",
   "execution_count": 19,
   "id": "04f8c516-079f-4473-8564-1cf66344872c",
   "metadata": {
    "tags": []
   },
   "outputs": [],
   "source": [
    "# read inputs \n",
    "bento_step_inputs = substep.inputs(step_name=\"model_train\")"
   ]
  },
  {
   "cell_type": "code",
   "execution_count": 26,
   "id": "47c68c69-46d1-48d0-a239-fac8bf36c6fa",
   "metadata": {
    "tags": []
   },
   "outputs": [
    {
     "name": "stdout",
     "output_type": "stream",
     "text": [
      "[2025-01-16 06:16:44,914] WARNING - Saved BentoService bundle version mismatch: loading BentoService bundle create with BentoML version 0.13.2, but loading from BentoML version 0.13.2+6.g2dc5913c\n",
      "[2025-01-16 06:16:44,917] WARNING - Python 3.10.12 found in current environment is not officially supported by BentoML. The docker base image used is'bentoml/model-server:0.13.2' which will use conda to install Python 3.10.12 in the build process. Supported Python versions are: f3.6, 3.7, 3.8\n"
     ]
    }
   ],
   "source": [
    "\n",
    "# load a bentoservice\n",
    "from sinara.bentoml import load_bentoservice\n",
    "from sklearn.metrics import mean_absolute_percentage_error,mean_absolute_error,r2_score\n",
    "bento_serv = load_bentoservice(bento_step_inputs.california_bento)"
   ]
  },
  {
   "cell_type": "code",
   "execution_count": 21,
   "id": "82ef2430-57f2-42f4-a435-f50e1edd2c0b",
   "metadata": {
    "tags": []
   },
   "outputs": [
    {
     "name": "stdout",
     "output_type": "stream",
     "text": [
      "run-25-01-15-100600\n"
     ]
    }
   ],
   "source": [
    "bento_service_version = bento_serv.service_version().split('.')[-1]\n",
    "substep.add_metric(\"version\", \n",
    "                   {'bento_service_version': bento_service_version})\n",
    "print(bento_service_version)"
   ]
  },
  {
   "cell_type": "code",
   "execution_count": 27,
   "id": "dc6924dd-7621-4f11-a550-fefdab182213",
   "metadata": {},
   "outputs": [
    {
     "name": "stdout",
     "output_type": "stream",
     "text": [
      "The mean_absolute_error (MAE) on test set: 0.9240\n",
      "The mean_absolute_percentage_errorr (MAPE) on test set: 0.6168\n"
     ]
    }
   ],
   "source": [
    "import pandas as pd\n",
    "test_data = bento_serv.test_data()\n",
    "predictions = bento_serv.predict(pd.DataFrame(test_data['X']))\n",
    "##Добавил pacчет R2\n",
    "r2 = bento_serv.score(pd.DataFrame(test_data['X']),pd.DataFrame(predictions))\n",
    "r21 = r2_score(pd.DataFrame(test_data['Y']).values, predictions)\n",
    "mae = mean_absolute_error(pd.DataFrame(test_data['Y']).values, predictions)\n",
    "mape = mean_absolute_percentage_error(pd.DataFrame(test_data['Y']).values, predictions)\n",
    "\n",
    "print(\"The mean_absolute_error (MAE) on test set: {:.4f}\".format(mae))\n",
    "print(\"The mean_absolute_percentage_errorr (MAPE) on test set: {:.4f}\".format(mape))"
   ]
  },
  {
   "cell_type": "code",
   "execution_count": 23,
   "id": "8651fcbb-0617-4a68-a1cc-04a44a4fd37b",
   "metadata": {},
   "outputs": [],
   "source": [
    "# add evaluation results to the step metrics\n",
    "substep.add_metric('eval_result', {'r2':r2,\n",
    "                              'mae': mae,\n",
    "                              'mape': mape})"
   ]
  },
  {
   "cell_type": "code",
   "execution_count": 24,
   "id": "48bbe7a3-97fc-497c-b53c-13a3be3a53b5",
   "metadata": {},
   "outputs": [
    {
     "ename": "Exception",
     "evalue": "R2 is 1.0, more than acceptable value of 1",
     "output_type": "error",
     "traceback": [
      "\u001b[0;31m---------------------------------------------------------------------------\u001b[0m",
      "\u001b[0;31mException\u001b[0m                                 Traceback (most recent call last)",
      "Cell \u001b[0;32mIn[24], line 6\u001b[0m\n\u001b[1;32m      4\u001b[0m mape_threshold \u001b[38;5;241m=\u001b[39m substep_params[\u001b[38;5;124m\"\u001b[39m\u001b[38;5;124mmape_threshold\u001b[39m\u001b[38;5;124m\"\u001b[39m]\n\u001b[1;32m      5\u001b[0m \u001b[38;5;28;01mif\u001b[39;00m r2 \u001b[38;5;241m>\u001b[39m\u001b[38;5;241m=\u001b[39m r2_threshold:\n\u001b[0;32m----> 6\u001b[0m     \u001b[38;5;28;01mraise\u001b[39;00m \u001b[38;5;167;01mException\u001b[39;00m(\u001b[38;5;124mf\u001b[39m\u001b[38;5;124m'\u001b[39m\u001b[38;5;124mR2 is \u001b[39m\u001b[38;5;132;01m{\u001b[39;00mr2\u001b[38;5;132;01m}\u001b[39;00m\u001b[38;5;124m, more than acceptable value of \u001b[39m\u001b[38;5;132;01m{\u001b[39;00mr2_threshold\u001b[38;5;132;01m}\u001b[39;00m\u001b[38;5;124m'\u001b[39m)\n\u001b[1;32m      7\u001b[0m \u001b[38;5;28;01mif\u001b[39;00m mae \u001b[38;5;241m>\u001b[39m mae_threshold:\n\u001b[1;32m      8\u001b[0m     \u001b[38;5;28;01mraise\u001b[39;00m \u001b[38;5;167;01mException\u001b[39;00m(\u001b[38;5;124mf\u001b[39m\u001b[38;5;124m'\u001b[39m\u001b[38;5;124mMAE is \u001b[39m\u001b[38;5;132;01m{\u001b[39;00mmae\u001b[38;5;132;01m}\u001b[39;00m\u001b[38;5;124m, more than acceptable value of \u001b[39m\u001b[38;5;132;01m{\u001b[39;00mmae_threshold\u001b[38;5;132;01m}\u001b[39;00m\u001b[38;5;124m'\u001b[39m)\n",
      "\u001b[0;31mException\u001b[0m: R2 is 1.0, more than acceptable value of 1"
     ]
    }
   ],
   "source": [
    "# check eval result\n",
    "r2_threshold = substep_params[\"r2_threshold\"]\n",
    "mae_threshold = substep_params[\"mae_threshold\"]\n",
    "mape_threshold = substep_params[\"mape_threshold\"]\n",
    "if r2 >= r2_threshold:\n",
    "    raise Exception(f'R2 is {r2}, more than acceptable value of {r2_threshold}')\n",
    "if mae > mae_threshold:\n",
    "    raise Exception(f'MAE is {mae}, more than acceptable value of {mae_threshold}')\n",
    "if mape > mape_threshold:\n",
    "    raise Exception(f'MAPE is {mape}, more than acceptable value of {mape_threshold}')"
   ]
  },
  {
   "cell_type": "code",
   "execution_count": 25,
   "id": "3561c3b2-d496-4d1a-a571-d93d3f54bf0b",
   "metadata": {},
   "outputs": [],
   "source": [
    "# stop spark\n",
    "SinaraSpark.stop_session()"
   ]
  }
 ],
 "metadata": {
  "kernelspec": {
   "display_name": "ml",
   "language": "python",
   "name": "python3"
  },
  "language_info": {
   "codemirror_mode": {
    "name": "ipython",
    "version": 3
   },
   "file_extension": ".py",
   "mimetype": "text/x-python",
   "name": "python",
   "nbconvert_exporter": "python",
   "pygments_lexer": "ipython3",
   "version": "3.10.12"
  }
 },
 "nbformat": 4,
 "nbformat_minor": 5
}
